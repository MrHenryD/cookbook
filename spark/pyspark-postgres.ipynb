{
 "cells": [
  {
   "cell_type": "code",
   "execution_count": null,
   "id": "858d2fc5",
   "metadata": {},
   "outputs": [],
   "source": [
    "import random\n",
    "import string\n",
    "\n",
    "from pyspark import SparkConf\n",
    "from pyspark.sql import SparkSession\n",
    "\n",
    "import pyspark.sql.functions as f\n",
    "import pyspark.sql.types as t"
   ]
  },
  {
   "cell_type": "code",
   "execution_count": null,
   "id": "f85d16a4",
   "metadata": {},
   "outputs": [],
   "source": [
    "def create_spark_session(app_name: str, config: dict) -> SparkSession:\n",
    "    \"\"\" Create Spark Session Object \"\"\"\n",
    "    \n",
    "    spark_conf = SparkConf().setAll([\n",
    "        (k, v) for k, v in config.items()\n",
    "    ])\n",
    "\n",
    "    sess = SparkSession \\\n",
    "             .builder \\\n",
    "             .appName(app_name) \\\n",
    "             .config(conf=spark_conf) \\\n",
    "             .getOrCreate()\n",
    "        \n",
    "    return sess\n",
    "\n",
    "def setup_database(spark: SparkSession, db_conf: dict, \n",
    "                    batchsize: int = 1000, timeout: int = 60):\n",
    "    \"\"\" Populate database with dummy data \"\"\"\n",
    "\n",
    "    def name():\n",
    "        return \"\".join(random.choice(string.ascii_letters) for _ in range(random.randint(4, 10)))\n",
    "    \n",
    "    def product():\n",
    "        # return \"\".join(random.choice(string.ascii_letters) for _ in range(random.randint(4, 5)))        \n",
    "        CHOICES = (\"apple\", \"banana\", \"orange\", \"chicken\", \"steak\", \"shrimp\", \"pasta\", \"rice\")\n",
    "        return random.choice(CHOICES)\n",
    "    \n",
    "    def age():\n",
    "        return random.randint(18, 80)\n",
    "    \n",
    "    def price():\n",
    "        return round(random.random() * 100, 2)\n",
    "    \n",
    "    # USERS\n",
    "    print(\"Creating Users Table...\")\n",
    "    users = spark.createDataFrame([\n",
    "        (i, name(), age()) for i in range(1000)\n",
    "    ], schema=[\"id\", \"name\", \"age\"])\n",
    "        \n",
    "    users.repartition(1).write.format(\"jdbc\").options(\n",
    "        url=db_conf[\"url\"],\n",
    "        driver=db_conf[\"driver\"],\n",
    "        dbtable=\"users\",\n",
    "        user=db_conf[\"user\"],\n",
    "        password=db_conf[\"password\"],\n",
    "        batchsize=batchsize,\n",
    "        queryTimeout=timeout,\n",
    "    ).mode(\"overwrite\").save()\n",
    "        \n",
    "    # PURCHASES\n",
    "    print(\"Creating Purchases Table...\")\n",
    "    purchases = spark.createDataFrame([\n",
    "        (random.randint(1, 1000), product(), price())\n",
    "    for _ in range(20000)], schema=[\"user\", \"product\", \"price\"])\n",
    "    \n",
    "    purchases.repartition(1).write.format(\"jdbc\").options(\n",
    "        url=db_conf[\"url\"],\n",
    "        driver=db_conf[\"driver\"],\n",
    "        dbtable=\"purchases\",\n",
    "        user=db_conf[\"user\"],\n",
    "        password=db_conf[\"password\"],\n",
    "        batchsize=batchsize,\n",
    "        queryTimeout=timeout,\n",
    "    ).mode(\"overwrite\").save()"
   ]
  },
  {
   "cell_type": "code",
   "execution_count": null,
   "id": "5ad3ab9d",
   "metadata": {},
   "outputs": [],
   "source": [
    "# Configuration\n",
    "APP = \"pyspark-postgres-demo\"\n",
    "DB_CONF = {\n",
    "    \"url\": \"jdbc:postgresql://warehouse:5432/dwh\",\n",
    "    \"user\": \"dwh\",\n",
    "    \"password\": \"password\",\n",
    "    \"driver\": \"org.postgresql.Driver\",\n",
    "}  "
   ]
  },
  {
   "cell_type": "code",
   "execution_count": null,
   "id": "0ba218af",
   "metadata": {},
   "outputs": [],
   "source": [
    "# Session\n",
    "spark = create_spark_session(app_name=APP, config={\n",
    "    \"spark.jars\": \"/home/jovyan/work/jars/postgresql-42.2.24.jre6.jar\"\n",
    "})"
   ]
  },
  {
   "cell_type": "code",
   "execution_count": null,
   "id": "f10a3aef",
   "metadata": {},
   "outputs": [],
   "source": [
    "# Setup Database\n",
    "setup_database(\n",
    "    spark=spark,\n",
    "    db_conf=DB_CONF\n",
    ")"
   ]
  },
  {
   "cell_type": "code",
   "execution_count": null,
   "id": "1476ec0c",
   "metadata": {},
   "outputs": [],
   "source": [
    "users = spark.read \\\n",
    "             .format(\"jdbc\") \\\n",
    "             .option(\"url\", DB_CONF[\"url\"]) \\\n",
    "             .option(\"dbtable\", \"users\") \\\n",
    "             .option(\"user\", DB_CONF[\"user\"]) \\\n",
    "             .option(\"password\", DB_CONF[\"password\"]) \\\n",
    "             .option(\"driver\", DB_CONF[\"driver\"]) \\\n",
    "             .load()"
   ]
  },
  {
   "cell_type": "code",
   "execution_count": null,
   "id": "8930dc33",
   "metadata": {},
   "outputs": [],
   "source": [
    "purchases = spark.read \\\n",
    "             .format(\"jdbc\") \\\n",
    "             .option(\"url\", DB_CONF[\"url\"]) \\\n",
    "             .option(\"dbtable\", \"purchases\") \\\n",
    "             .option(\"user\", DB_CONF[\"user\"]) \\\n",
    "             .option(\"password\", DB_CONF[\"password\"]) \\\n",
    "             .option(\"driver\", DB_CONF[\"driver\"]) \\\n",
    "             .load()"
   ]
  },
  {
   "cell_type": "code",
   "execution_count": null,
   "id": "6be45800",
   "metadata": {},
   "outputs": [],
   "source": [
    "# Stage\n",
    "users.limit(100).repartition(1).write.format(\"jdbc\").options(\n",
    "        url=DB_CONF[\"url\"],\n",
    "        driver=DB_CONF[\"driver\"],\n",
    "        dbtable=\"stg__users\",\n",
    "        user=DB_CONF[\"user\"],\n",
    "        password=DB_CONF[\"password\"],\n",
    "    ).mode(\"overwrite\").save()"
   ]
  }
 ],
 "metadata": {
  "kernelspec": {
   "display_name": "Python 3 (ipykernel)",
   "language": "python",
   "name": "python3"
  },
  "language_info": {
   "codemirror_mode": {
    "name": "ipython",
    "version": 3
   },
   "file_extension": ".py",
   "mimetype": "text/x-python",
   "name": "python",
   "nbconvert_exporter": "python",
   "pygments_lexer": "ipython3",
   "version": "3.9.7"
  }
 },
 "nbformat": 4,
 "nbformat_minor": 5
}
